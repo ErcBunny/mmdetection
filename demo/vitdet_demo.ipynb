{
 "cells": [
  {
   "attachments": {},
   "cell_type": "markdown",
   "metadata": {},
   "source": [
    "# Cascade Mask RCNN"
   ]
  },
  {
   "cell_type": "code",
   "execution_count": null,
   "metadata": {},
   "outputs": [],
   "source": [
    "!mim download mmdet --config cascade-mask-rcnn_x101-64x4d_fpn_ms-3x_coco --dest ./checkpoints\n",
    "!rm -rf ./checkpoints/cascade-mask-rcnn_x101-64x4d_fpn_ms-3x_coco.py"
   ]
  },
  {
   "cell_type": "code",
   "execution_count": null,
   "metadata": {},
   "outputs": [],
   "source": [
    "import mmcv\n",
    "from mmdet.apis import init_detector, inference_detector\n",
    "from mmdet.utils import register_all_modules\n",
    "from mmdet.registry import VISUALIZERS\n",
    "\n",
    "register_all_modules()\n",
    "\n",
    "config_file = '../configs/cascade_rcnn/cascade-mask-rcnn_x101-64x4d_fpn_ms-3x_coco.py'\n",
    "checkpoint_file = 'checkpoints/cascade_mask_rcnn_x101_64x4d_fpn_mstrain_3x_coco_20210719_210311-d3e64ba0.pth'\n",
    "\n",
    "model = init_detector(config_file, checkpoint_file, device='cuda:0')\n",
    "visualizer = VISUALIZERS.build(model.cfg.visualizer)\n",
    "visualizer.dataset_meta = model.dataset_meta"
   ]
  },
  {
   "cell_type": "code",
   "execution_count": null,
   "metadata": {},
   "outputs": [],
   "source": [
    "image = mmcv.imread('demo.jpg',channel_order='rgb')\n",
    "print(image.shape)\n",
    "result = inference_detector(model, image)\n",
    "visualizer.add_datasample(\n",
    "    'result',\n",
    "    image,\n",
    "    data_sample=result,\n",
    "    draw_gt = None,\n",
    "    wait_time=0,\n",
    ")\n",
    "visualizer.show()"
   ]
  },
  {
   "attachments": {},
   "cell_type": "markdown",
   "metadata": {},
   "source": [
    "To test the model on the whole dataset, `cd` to `mmdetection` home, run\n",
    "\n",
    "```sh\n",
    "python  tools/test.py\\\n",
    "        configs/cascade_rcnn/cascade-mask-rcnn_x101-64x4d_fpn_ms-3x_coco.py\\\n",
    "        projects/ViTDet/checkpoints/cascade_mask_rcnn_x101_64x4d_fpn_mstrain_3x_coco_20210719_210311-d3e64ba0.pth\n",
    "```\n",
    "\n",
    "The config file provides everything for training. There is also a script that handles traing and saves the checkpoint every epoch in `work_dir`.\n",
    "\n",
    "```sh\n",
    "python  tools/train.py\\\n",
    "        configs/cascade_rcnn/cascade-mask-rcnn_x101-64x4d_fpn_ms-3x_coco.py\n",
    "```"
   ]
  },
  {
   "attachments": {},
   "cell_type": "markdown",
   "metadata": {},
   "source": [
    "# ViTMAE mmpretrain\n",
    "\n",
    "https://mmpretrain.readthedocs.io/en/latest/papers/mae.html"
   ]
  },
  {
   "cell_type": "code",
   "execution_count": null,
   "metadata": {},
   "outputs": [],
   "source": [
    "import torch\n",
    "from mmpretrain import get_model\n",
    "\n",
    "model = get_model('mae_vit-base-p16_8xb512-amp-coslr-300e_in1k', pretrained=True)\n",
    "inputs = torch.rand(10, 3, 256, 128)\n",
    "out = model(inputs)\n",
    "print(len(out))\n",
    "print(type(out))\n",
    "print(out[0].shape)\n",
    "# To extract features.\n",
    "feats = model.extract_feat(inputs)\n",
    "print(type(feats))\n",
    "print(feats[0].shape)\n",
    "print(torch.allclose(out[0], feats[0]))"
   ]
  },
  {
   "cell_type": "code",
   "execution_count": null,
   "metadata": {},
   "outputs": [],
   "source": [
    "h = 480\n",
    "w = 640\n",
    "c = 3\n",
    "b = 1\n",
    "inputs = torch.rand(b, c, h, w)\n",
    "out = model(inputs)\n",
    "print(out[0].shape)"
   ]
  },
  {
   "attachments": {},
   "cell_type": "markdown",
   "metadata": {},
   "source": [
    "# sFPN Neck"
   ]
  },
  {
   "cell_type": "code",
   "execution_count": null,
   "metadata": {},
   "outputs": [],
   "source": [
    "import mmdet.models.necks.fpn as mmfpn\n",
    "\n",
    "import torch\n",
    "in_channels = [2, 3, 5, 7]\n",
    "scales = [340, 170, 84, 40]\n",
    "inputs = [torch.rand(1, c, s, s) for c, s in zip(in_channels, scales)]\n",
    "for i in range(len(inputs)):\n",
    "    print(f'inputs[{i}].shape = {inputs[i].shape}')\n",
    "self = mmfpn.FPN(in_channels, 256, len(in_channels) + 1).eval()\n",
    "outputs = self.forward(inputs)\n",
    "for i in range(len(outputs)):\n",
    "    print(f'outputs[{i}].shape = {outputs[i].shape}')"
   ]
  },
  {
   "cell_type": "code",
   "execution_count": null,
   "metadata": {},
   "outputs": [],
   "source": [
    "neck = mmfpn.FPN([256, 256, 256, 256], 256, 5)\n",
    "x = [\n",
    "        torch.rand(25, 256, 30, 40),\n",
    "        torch.rand(25, 256, 30, 40),\n",
    "        torch.rand(25, 256, 30, 40),\n",
    "        torch.rand(25, 256, 30, 40)\n",
    "    ]\n",
    "y = neck.forward(x)\n",
    "for i in range(len(outputs)):\n",
    "    print(f'outputs[{i}].shape = {y[i].shape}')"
   ]
  },
  {
   "cell_type": "code",
   "execution_count": null,
   "metadata": {},
   "outputs": [],
   "source": [
    "import mmdet.models.necks.simplefpn as sfpn\n",
    "import torch\n",
    "\n",
    "my_neck = sfpn.SimpleFPN(768, 256)\n",
    "x = [torch.rand(25, 768, 30, 40)]\n",
    "y = my_neck.forward(x)\n",
    "for i in range(len(x)):\n",
    "    print(f'inputs[{i}].shape = {x[i].shape}')\n",
    "for i in range(len(y)):\n",
    "    print(f'outputs[{i}].shape = {y[i].shape}')\n"
   ]
  },
  {
   "attachments": {},
   "cell_type": "markdown",
   "metadata": {},
   "source": [
    "```\n",
    "python tools/train.py configs/cascade_rcnn/cascade-mask-rcnn_r50_sfpn_1x_coco.py\n",
    "```"
   ]
  },
  {
   "attachments": {},
   "cell_type": "markdown",
   "metadata": {},
   "source": [
    "# VitMAE detectron2"
   ]
  },
  {
   "cell_type": "code",
   "execution_count": null,
   "metadata": {},
   "outputs": [],
   "source": [
    "import mmdet.models.backbones.vitmae as vitmae\n",
    "import mmdet.models.backbones.resnet as resnet\n",
    "from functools import partial\n",
    "import torch.nn as nn\n",
    "import torch\n",
    "\n",
    "embed_dim, depth, num_heads, dp = 768, 12, 12, 0.1\n",
    "model = vitmae.ViTMAE(\n",
    "    img_size=1024,\n",
    "    patch_size=16,\n",
    "    embed_dim=embed_dim,\n",
    "    depth=depth,\n",
    "    num_heads=num_heads,\n",
    "    drop_path_rate=dp,\n",
    "    window_size=14,\n",
    "    mlp_ratio=4,\n",
    "    qkv_bias=True,\n",
    "    window_block_indexes=[\n",
    "        # 2, 5, 8 11 for global attention\n",
    "        0,\n",
    "        1,\n",
    "        3,\n",
    "        4,\n",
    "        6,\n",
    "        7,\n",
    "        9,\n",
    "        10,\n",
    "    ],\n",
    "    residual_block_indexes=[],\n",
    "    use_rel_pos=True,\n",
    "    weight_url=\"detectron2://ImageNetPretrained/MAE/mae_pretrain_vit_base.pth?matching_heuristics=True\"\n",
    ")\n",
    "\n",
    "resn = resnet.ResNet(\n",
    "    depth=50,\n",
    "    num_stages=4,\n",
    "    out_indices=(0, 1, 2, 3),\n",
    "    frozen_stages=1,\n",
    "    norm_cfg=dict(type='BN', requires_grad=True),\n",
    "    norm_eval=True,\n",
    "    style='pytorch',\n",
    "    init_cfg=dict(type='Pretrained', checkpoint='torchvision://resnet50')\n",
    ")"
   ]
  },
  {
   "cell_type": "code",
   "execution_count": null,
   "metadata": {},
   "outputs": [],
   "source": [
    "x = torch.rand(2, 3, 480, 640)\n",
    "print(x.type)\n",
    "y = model.forward(x)\n",
    "print(y[0].shape)\n",
    "z = my_neck.forward(y)\n",
    "for i in range(len(z)):\n",
    "    print(f'outputs[{i}].shape = {z[i].shape}')"
   ]
  },
  {
   "cell_type": "code",
   "execution_count": null,
   "metadata": {},
   "outputs": [],
   "source": [
    "y_res = resn.forward(x)\n",
    "for i in range(len(y_res)):\n",
    "    print(y_res[i].shape)"
   ]
  },
  {
   "attachments": {},
   "cell_type": "markdown",
   "metadata": {},
   "source": [
    "```\n",
    "python tools/train.py configs/cascade_rcnn/cascade-mask-rcnn_vitmae_b16_sfpn_1x_coco.py\n",
    "```"
   ]
  }
 ],
 "metadata": {
  "kernelspec": {
   "display_name": "openmmlab",
   "language": "python",
   "name": "python3"
  },
  "language_info": {
   "codemirror_mode": {
    "name": "ipython",
    "version": 3
   },
   "file_extension": ".py",
   "mimetype": "text/x-python",
   "name": "python",
   "nbconvert_exporter": "python",
   "pygments_lexer": "ipython3",
   "version": "3.8.16"
  },
  "orig_nbformat": 4
 },
 "nbformat": 4,
 "nbformat_minor": 2
}
